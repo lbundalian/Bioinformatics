{
 "cells": [
  {
   "cell_type": "code",
   "execution_count": 1,
   "id": "bizarre-distributor",
   "metadata": {},
   "outputs": [],
   "source": [
    "from bs4 import BeautifulSoup\n",
    "import urllib.request\n",
    "import json\n",
    "import csv\n",
    "import pandas as pd"
   ]
  },
  {
   "cell_type": "code",
   "execution_count": 19,
   "id": "decent-frank",
   "metadata": {},
   "outputs": [],
   "source": [
    "gene_list: str = \"DNAH3\"\n",
    "tax_id: str = \"9606\"\n",
    "access_key: str = \"b29ee574e1fbeb14d7ddb7bcef86afc2\"\n",
    "input_file: str = \"data/nafe.txt\"\n",
    "\n",
    "gene_list = pd.read_csv(input_file,header = None)[0].tolist()\n",
    "gene_list = \"|\".join(gene_list)\n",
    "    \n",
    "user_agent = 'Mozilla/5.0 (Windows; U; Windows NT 5.1; en-US; rv:1.9.0.7) Gecko/2009021910 Firefox/3.0.7'\n",
    "headers={'User-Agent':user_agent,} \n",
    "\n",
    "url = (\n",
    "    f\"https://webservice.thebiogrid.org/interactions?\"\n",
    "    f\"searchNames=true&\"\n",
    "    f\"geneList={gene_list}&\"\n",
    "    f\"includeInteractors=true&\"\n",
    "    f\"includeInteractorInteractions=false&\"\n",
    "    f\"taxId={tax_id}&\"\n",
    "    f\"accesskey={access_key}\"\n",
    "    \n",
    ")\n",
    "\n"
   ]
  },
  {
   "cell_type": "code",
   "execution_count": 3,
   "id": "fancy-breed",
   "metadata": {},
   "outputs": [
    {
     "data": {
      "text/plain": [
       "'https://webservice.thebiogrid.org/interactions?searchNames=true&geneList=ADAMTSL4|CUBN|DNAH3|FASN|FAT4|HEPHL1|HMCN1|HSPG2|IFT172|LRP5|LYST|MASP1|MROH7-TTC4|MYH4|NAV1|OBSCN|PCK2|PDZD2|PPL|SBF1|TNC&includeInteractors=true&includeInteractorInteractions=false&taxId=9606&accesskey=b29ee574e1fbeb14d7ddb7bcef86afc2'"
      ]
     },
     "execution_count": 3,
     "metadata": {},
     "output_type": "execute_result"
    }
   ],
   "source": [
    "url"
   ]
  },
  {
   "cell_type": "code",
   "execution_count": 20,
   "id": "veterinary-clearance",
   "metadata": {},
   "outputs": [],
   "source": [
    "request = urllib.request.Request(url,None,headers) #The assembled request\n",
    "response = urllib.request.urlopen(request)\n",
    "data = response.read()"
   ]
  },
  {
   "cell_type": "code",
   "execution_count": 21,
   "id": "happy-dynamics",
   "metadata": {},
   "outputs": [],
   "source": [
    "df = pd.DataFrame([x.split('\\t') for x in data.decode().split('\\n')]).iloc[:, [7,8]]"
   ]
  },
  {
   "cell_type": "code",
   "execution_count": 22,
   "id": "elementary-swedish",
   "metadata": {},
   "outputs": [
    {
     "data": {
      "text/html": [
       "<div>\n",
       "<style scoped>\n",
       "    .dataframe tbody tr th:only-of-type {\n",
       "        vertical-align: middle;\n",
       "    }\n",
       "\n",
       "    .dataframe tbody tr th {\n",
       "        vertical-align: top;\n",
       "    }\n",
       "\n",
       "    .dataframe thead th {\n",
       "        text-align: right;\n",
       "    }\n",
       "</style>\n",
       "<table border=\"1\" class=\"dataframe\">\n",
       "  <thead>\n",
       "    <tr style=\"text-align: right;\">\n",
       "      <th></th>\n",
       "      <th>7</th>\n",
       "      <th>8</th>\n",
       "    </tr>\n",
       "  </thead>\n",
       "  <tbody>\n",
       "    <tr>\n",
       "      <th>0</th>\n",
       "      <td>FLNA</td>\n",
       "      <td>DRD3</td>\n",
       "    </tr>\n",
       "    <tr>\n",
       "      <th>1</th>\n",
       "      <td>NUMA1</td>\n",
       "      <td>EPB41</td>\n",
       "    </tr>\n",
       "    <tr>\n",
       "      <th>2</th>\n",
       "      <td>FLNA</td>\n",
       "      <td>ITGB1</td>\n",
       "    </tr>\n",
       "    <tr>\n",
       "      <th>3</th>\n",
       "      <td>FGF7</td>\n",
       "      <td>HSPG2</td>\n",
       "    </tr>\n",
       "    <tr>\n",
       "      <th>4</th>\n",
       "      <td>EPB41L1</td>\n",
       "      <td>NUMA1</td>\n",
       "    </tr>\n",
       "    <tr>\n",
       "      <th>...</th>\n",
       "      <td>...</td>\n",
       "      <td>...</td>\n",
       "    </tr>\n",
       "    <tr>\n",
       "      <th>7399</th>\n",
       "      <td>ORF6</td>\n",
       "      <td>FLNA</td>\n",
       "    </tr>\n",
       "    <tr>\n",
       "      <th>7400</th>\n",
       "      <td>ORF6</td>\n",
       "      <td>FANCI</td>\n",
       "    </tr>\n",
       "    <tr>\n",
       "      <th>7401</th>\n",
       "      <td>BRD4</td>\n",
       "      <td>NUMA1</td>\n",
       "    </tr>\n",
       "    <tr>\n",
       "      <th>7402</th>\n",
       "      <td>PARK2</td>\n",
       "      <td>AHNAK</td>\n",
       "    </tr>\n",
       "    <tr>\n",
       "      <th>7403</th>\n",
       "      <td>None</td>\n",
       "      <td>None</td>\n",
       "    </tr>\n",
       "  </tbody>\n",
       "</table>\n",
       "<p>7404 rows × 2 columns</p>\n",
       "</div>"
      ],
      "text/plain": [
       "            7      8\n",
       "0        FLNA   DRD3\n",
       "1       NUMA1  EPB41\n",
       "2        FLNA  ITGB1\n",
       "3        FGF7  HSPG2\n",
       "4     EPB41L1  NUMA1\n",
       "...       ...    ...\n",
       "7399     ORF6   FLNA\n",
       "7400     ORF6  FANCI\n",
       "7401     BRD4  NUMA1\n",
       "7402    PARK2  AHNAK\n",
       "7403     None   None\n",
       "\n",
       "[7404 rows x 2 columns]"
      ]
     },
     "execution_count": 22,
     "metadata": {},
     "output_type": "execute_result"
    }
   ],
   "source": [
    "df"
   ]
  }
 ],
 "metadata": {
  "kernelspec": {
   "display_name": "Python 3 (ipykernel)",
   "language": "python",
   "name": "python3"
  },
  "language_info": {
   "codemirror_mode": {
    "name": "ipython",
    "version": 3
   },
   "file_extension": ".py",
   "mimetype": "text/x-python",
   "name": "python",
   "nbconvert_exporter": "python",
   "pygments_lexer": "ipython3",
   "version": "3.9.1"
  }
 },
 "nbformat": 4,
 "nbformat_minor": 5
}
