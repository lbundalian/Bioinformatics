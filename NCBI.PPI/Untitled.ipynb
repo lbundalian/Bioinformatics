{
 "cells": [
  {
   "cell_type": "code",
   "execution_count": 19,
   "id": "wooden-bermuda",
   "metadata": {},
   "outputs": [],
   "source": [
    "from bs4 import BeautifulSoup\n",
    "import urllib.request\n",
    "import json\n",
    "import csv\n",
    "import pandas as pd"
   ]
  },
  {
   "cell_type": "code",
   "execution_count": 42,
   "id": "billion-shame",
   "metadata": {},
   "outputs": [],
   "source": [
    "gene_list: str = \"DNAH3\"\n",
    "tax_id: str = \"9606\"\n",
    "access_key: str = \"b29ee574e1fbeb14d7ddb7bcef86afc2\"\n",
    "input_file: str = \"dee.txt\"\n",
    "\n",
    "gene_list = pd.read_csv(input_file,header = None)[0].tolist()\n",
    "gene_list = \"|\".join(gene_list)\n",
    "    \n",
    "user_agent = 'Mozilla/5.0 (Windows; U; Windows NT 5.1; en-US; rv:1.9.0.7) Gecko/2009021910 Firefox/3.0.7'\n",
    "headers={'User-Agent':user_agent,} \n",
    "\n",
    "url = (\n",
    "    f\"https://webservice.thebiogrid.org/interactions?\"\n",
    "    f\"searchNames=true&\"\n",
    "    f\"geneList={gene_list}&\"\n",
    "    f\"includeInteractors=true&\"\n",
    "    f\"includeInteractorInteractions=false&\"\n",
    "    f\"taxId={tax_id}&\"\n",
    "    f\"accesskey={access_key}\"\n",
    "    \n",
    ")\n",
    "\n"
   ]
  },
  {
   "cell_type": "code",
   "execution_count": 43,
   "id": "beginning-liverpool",
   "metadata": {},
   "outputs": [],
   "source": [
    "request = urllib.request.Request(url,None,headers) #The assembled request\n",
    "response = urllib.request.urlopen(request)\n",
    "data = response.read()"
   ]
  },
  {
   "cell_type": "code",
   "execution_count": 44,
   "id": "chinese-works",
   "metadata": {},
   "outputs": [],
   "source": [
    "parsed_result = BeautifulSoup(data, \"html.parser\")"
   ]
  },
  {
   "cell_type": "code",
   "execution_count": 55,
   "id": "statutory-louisiana",
   "metadata": {},
   "outputs": [],
   "source": [
    "df = pd.DataFrame([x.split('\\t') for x in [x.split('\\n') for x in parsed_result][0]]).iloc[:, [7,8]]\n",
    "df.columns = ['INTERACTOR_A', 'INTERACTOR_B']"
   ]
  },
  {
   "cell_type": "code",
   "execution_count": 56,
   "id": "greater-sister",
   "metadata": {},
   "outputs": [
    {
     "data": {
      "text/html": [
       "<div>\n",
       "<style scoped>\n",
       "    .dataframe tbody tr th:only-of-type {\n",
       "        vertical-align: middle;\n",
       "    }\n",
       "\n",
       "    .dataframe tbody tr th {\n",
       "        vertical-align: top;\n",
       "    }\n",
       "\n",
       "    .dataframe thead th {\n",
       "        text-align: right;\n",
       "    }\n",
       "</style>\n",
       "<table border=\"1\" class=\"dataframe\">\n",
       "  <thead>\n",
       "    <tr style=\"text-align: right;\">\n",
       "      <th></th>\n",
       "      <th>7</th>\n",
       "      <th>8</th>\n",
       "    </tr>\n",
       "  </thead>\n",
       "  <tbody>\n",
       "    <tr>\n",
       "      <th>0</th>\n",
       "      <td>FGF7</td>\n",
       "      <td>HSPG2</td>\n",
       "    </tr>\n",
       "    <tr>\n",
       "      <th>1</th>\n",
       "      <td>ANK1</td>\n",
       "      <td>OBSCN</td>\n",
       "    </tr>\n",
       "    <tr>\n",
       "      <th>2</th>\n",
       "      <td>FASN</td>\n",
       "      <td>FASN</td>\n",
       "    </tr>\n",
       "    <tr>\n",
       "      <th>3</th>\n",
       "      <td>PPL</td>\n",
       "      <td>KAZN</td>\n",
       "    </tr>\n",
       "    <tr>\n",
       "      <th>4</th>\n",
       "      <td>PDZD2</td>\n",
       "      <td>CTNND2</td>\n",
       "    </tr>\n",
       "    <tr>\n",
       "      <th>...</th>\n",
       "      <td>...</td>\n",
       "      <td>...</td>\n",
       "    </tr>\n",
       "    <tr>\n",
       "      <th>2755</th>\n",
       "      <td>ATP1A1</td>\n",
       "      <td>FASN</td>\n",
       "    </tr>\n",
       "    <tr>\n",
       "      <th>2756</th>\n",
       "      <td>RNF43</td>\n",
       "      <td>OBSCN</td>\n",
       "    </tr>\n",
       "    <tr>\n",
       "      <th>2757</th>\n",
       "      <td>RNF43</td>\n",
       "      <td>PPL</td>\n",
       "    </tr>\n",
       "    <tr>\n",
       "      <th>2758</th>\n",
       "      <td>ORF6</td>\n",
       "      <td>FASN</td>\n",
       "    </tr>\n",
       "    <tr>\n",
       "      <th>2759</th>\n",
       "      <td>None</td>\n",
       "      <td>None</td>\n",
       "    </tr>\n",
       "  </tbody>\n",
       "</table>\n",
       "<p>2760 rows × 2 columns</p>\n",
       "</div>"
      ],
      "text/plain": [
       "           7       8\n",
       "0       FGF7   HSPG2\n",
       "1       ANK1   OBSCN\n",
       "2       FASN    FASN\n",
       "3        PPL    KAZN\n",
       "4      PDZD2  CTNND2\n",
       "...      ...     ...\n",
       "2755  ATP1A1    FASN\n",
       "2756   RNF43   OBSCN\n",
       "2757   RNF43     PPL\n",
       "2758    ORF6    FASN\n",
       "2759    None    None\n",
       "\n",
       "[2760 rows x 2 columns]"
      ]
     },
     "execution_count": 56,
     "metadata": {},
     "output_type": "execute_result"
    }
   ],
   "source": []
  }
 ],
 "metadata": {
  "kernelspec": {
   "display_name": "Python 3 (ipykernel)",
   "language": "python",
   "name": "python3"
  },
  "language_info": {
   "codemirror_mode": {
    "name": "ipython",
    "version": 3
   },
   "file_extension": ".py",
   "mimetype": "text/x-python",
   "name": "python",
   "nbconvert_exporter": "python",
   "pygments_lexer": "ipython3",
   "version": "3.9.1"
  }
 },
 "nbformat": 4,
 "nbformat_minor": 5
}
